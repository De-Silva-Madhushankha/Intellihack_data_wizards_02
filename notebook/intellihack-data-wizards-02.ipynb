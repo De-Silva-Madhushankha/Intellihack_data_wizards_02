{
 "cells": [
  {
   "cell_type": "markdown",
   "metadata": {},
   "source": [
    "# Environment setup and dataset loading"
   ]
  },
  {
   "cell_type": "code",
   "execution_count": null,
   "metadata": {
    "_cell_guid": "b1076dfc-b9ad-4769-8c92-a6c4dae69d19",
    "_uuid": "8f2839f25d086af736a60e9eeb907d3b93b6e0e5",
    "execution": {
     "iopub.execute_input": "2025-03-09T21:59:24.226048Z",
     "iopub.status.busy": "2025-03-09T21:59:24.225672Z",
     "iopub.status.idle": "2025-03-09T21:59:26.390113Z",
     "shell.execute_reply": "2025-03-09T21:59:26.389112Z",
     "shell.execute_reply.started": "2025-03-09T21:59:24.226018Z"
    },
    "trusted": true
   },
   "outputs": [
    {
     "ename": "",
     "evalue": "",
     "output_type": "error",
     "traceback": [
      "\u001b[1;31mRunning cells with 'Python 3.11.7' requires the ipykernel package.\n",
      "\u001b[1;31mRun the following command to install 'ipykernel' into the Python environment. \n",
      "\u001b[1;31mCommand: 'c:/msys64/ucrt64/bin/python.exe -m pip install ipykernel -U --user --force-reinstall'"
     ]
    }
   ],
   "source": [
    "import numpy as np\n",
    "import pandas as pd\n",
    "import datetime\n",
    "import matplotlib\n",
    "import matplotlib.pyplot as plt\n",
    "from matplotlib import colors\n",
    "import seaborn as sns\n",
    "from sklearn.preprocessing import LabelEncoder\n",
    "from sklearn.preprocessing import StandardScaler\n",
    "from sklearn.decomposition import PCA\n",
    "from yellowbrick.cluster import KElbowVisualizer\n",
    "from sklearn.cluster import KMeans\n",
    "import matplotlib.pyplot as plt, numpy as np\n",
    "from mpl_toolkits.mplot3d import Axes3D\n",
    "from sklearn.cluster import AgglomerativeClustering\n",
    "from matplotlib.colors import ListedColormap\n",
    "from sklearn import metrics\n",
    "import warnings\n",
    "import sys\n",
    "if not sys.warnoptions:\n",
    "    warnings.simplefilter(\"ignore\")\n",
    "np.random.seed(42)\n",
    "\n",
    "\n",
    "import os\n",
    "for dirname, _, filenames in os.walk('/kaggle/input'):\n",
    "    for filename in filenames:\n",
    "        print(os.path.join(dirname, filename))\n"
   ]
  },
  {
   "cell_type": "markdown",
   "metadata": {},
   "source": [
    "Note: update the file path depending on where your dataset is. "
   ]
  },
  {
   "cell_type": "code",
   "execution_count": null,
   "metadata": {
    "execution": {
     "iopub.execute_input": "2025-03-09T21:59:26.392137Z",
     "iopub.status.busy": "2025-03-09T21:59:26.391558Z",
     "iopub.status.idle": "2025-03-09T21:59:26.414079Z",
     "shell.execute_reply": "2025-03-09T21:59:26.413061Z",
     "shell.execute_reply.started": "2025-03-09T21:59:26.392099Z"
    },
    "trusted": true
   },
   "outputs": [],
   "source": [
    "df = pd.read_csv(\"/kaggle/input/customer-behavior-analytcis/customer_behavior_analytcis.csv\")"
   ]
  },
  {
   "cell_type": "markdown",
   "metadata": {},
   "source": [
    "## Understanding Dataset"
   ]
  },
  {
   "cell_type": "code",
   "execution_count": null,
   "metadata": {
    "execution": {
     "iopub.execute_input": "2025-03-09T21:59:26.416610Z",
     "iopub.status.busy": "2025-03-09T21:59:26.416312Z",
     "iopub.status.idle": "2025-03-09T21:59:26.422688Z",
     "shell.execute_reply": "2025-03-09T21:59:26.421458Z",
     "shell.execute_reply.started": "2025-03-09T21:59:26.416587Z"
    },
    "trusted": true
   },
   "outputs": [],
   "source": [
    "df.shape"
   ]
  },
  {
   "cell_type": "code",
   "execution_count": null,
   "metadata": {
    "execution": {
     "iopub.execute_input": "2025-03-09T21:59:26.424968Z",
     "iopub.status.busy": "2025-03-09T21:59:26.424572Z",
     "iopub.status.idle": "2025-03-09T21:59:26.467025Z",
     "shell.execute_reply": "2025-03-09T21:59:26.466006Z",
     "shell.execute_reply.started": "2025-03-09T21:59:26.424935Z"
    },
    "trusted": true
   },
   "outputs": [],
   "source": [
    "df.head()"
   ]
  },
  {
   "cell_type": "code",
   "execution_count": null,
   "metadata": {
    "execution": {
     "iopub.execute_input": "2025-03-09T21:59:26.468424Z",
     "iopub.status.busy": "2025-03-09T21:59:26.468095Z",
     "iopub.status.idle": "2025-03-09T21:59:26.491943Z",
     "shell.execute_reply": "2025-03-09T21:59:26.490880Z",
     "shell.execute_reply.started": "2025-03-09T21:59:26.468399Z"
    },
    "trusted": true
   },
   "outputs": [],
   "source": [
    "for col in df.columns:\n",
    "    print(df[col].value_counts())\n",
    "    "
   ]
  },
  {
   "cell_type": "markdown",
   "metadata": {},
   "source": [
    "# Data Cleaning"
   ]
  },
  {
   "cell_type": "code",
   "execution_count": null,
   "metadata": {
    "execution": {
     "iopub.execute_input": "2025-03-09T21:59:26.493412Z",
     "iopub.status.busy": "2025-03-09T21:59:26.492964Z",
     "iopub.status.idle": "2025-03-09T21:59:26.517114Z",
     "shell.execute_reply": "2025-03-09T21:59:26.516040Z",
     "shell.execute_reply.started": "2025-03-09T21:59:26.493387Z"
    },
    "trusted": true
   },
   "outputs": [],
   "source": [
    "df.info()"
   ]
  },
  {
   "cell_type": "markdown",
   "metadata": {},
   "source": [
    "**From the above output, we can conclude and note that:**\n",
    "\n",
    "- There are missing values in total_purchases, avg_cart_value, and product_click.\n",
    "- customer_id (dtype: object) is not parsed as int/ float.\n",
    "- So we will need to format customer_id into numeric form."
   ]
  },
  {
   "cell_type": "code",
   "execution_count": null,
   "metadata": {
    "execution": {
     "iopub.execute_input": "2025-03-09T21:59:26.518587Z",
     "iopub.status.busy": "2025-03-09T21:59:26.518221Z",
     "iopub.status.idle": "2025-03-09T21:59:26.535967Z",
     "shell.execute_reply": "2025-03-09T21:59:26.534884Z",
     "shell.execute_reply.started": "2025-03-09T21:59:26.518529Z"
    },
    "trusted": true
   },
   "outputs": [],
   "source": [
    "for column in df.columns:\n",
    "    if df[column].isnull().any():\n",
    "        df[column].fillna(df[column].median(), inplace=True)"
   ]
  },
  {
   "cell_type": "markdown",
   "metadata": {},
   "source": [
    "# Data preprocessing"
   ]
  },
  {
   "cell_type": "code",
   "execution_count": null,
   "metadata": {
    "execution": {
     "iopub.execute_input": "2025-03-09T21:59:26.539448Z",
     "iopub.status.busy": "2025-03-09T21:59:26.539150Z",
     "iopub.status.idle": "2025-03-09T21:59:26.554886Z",
     "shell.execute_reply": "2025-03-09T21:59:26.553826Z",
     "shell.execute_reply.started": "2025-03-09T21:59:26.539425Z"
    },
    "trusted": true
   },
   "outputs": [],
   "source": [
    "df['customer_id'] = df['customer_id'].str.extract('(\\d+)').astype(int)"
   ]
  },
  {
   "cell_type": "code",
   "execution_count": null,
   "metadata": {
    "execution": {
     "iopub.execute_input": "2025-03-09T21:59:26.557340Z",
     "iopub.status.busy": "2025-03-09T21:59:26.557012Z",
     "iopub.status.idle": "2025-03-09T21:59:26.600830Z",
     "shell.execute_reply": "2025-03-09T21:59:26.599843Z",
     "shell.execute_reply.started": "2025-03-09T21:59:26.557310Z"
    },
    "trusted": true
   },
   "outputs": [],
   "source": [
    "df.describe()"
   ]
  },
  {
   "cell_type": "code",
   "execution_count": null,
   "metadata": {
    "execution": {
     "iopub.execute_input": "2025-03-09T21:59:26.602416Z",
     "iopub.status.busy": "2025-03-09T21:59:26.601907Z",
     "iopub.status.idle": "2025-03-09T21:59:26.612665Z",
     "shell.execute_reply": "2025-03-09T21:59:26.611671Z",
     "shell.execute_reply.started": "2025-03-09T21:59:26.602380Z"
    },
    "trusted": true
   },
   "outputs": [],
   "source": [
    "ds = df.copy()\n",
    "scaler = StandardScaler()\n",
    "scaler.fit(ds)\n",
    "scaled_ds = pd.DataFrame(scaler.transform(ds),columns= ds.columns )\n",
    "print(\"All features are now scaled\")"
   ]
  },
  {
   "cell_type": "code",
   "execution_count": null,
   "metadata": {
    "execution": {
     "iopub.execute_input": "2025-03-09T21:59:26.614009Z",
     "iopub.status.busy": "2025-03-09T21:59:26.613665Z",
     "iopub.status.idle": "2025-03-09T21:59:26.655382Z",
     "shell.execute_reply": "2025-03-09T21:59:26.654362Z",
     "shell.execute_reply.started": "2025-03-09T21:59:26.613977Z"
    },
    "trusted": true
   },
   "outputs": [],
   "source": [
    "scaled_ds.describe()"
   ]
  },
  {
   "cell_type": "markdown",
   "metadata": {},
   "source": [
    "Note\\\n",
    "discunt counts seems to be spread away from means in contrast to other features. max > 3 and min<-3."
   ]
  },
  {
   "cell_type": "markdown",
   "metadata": {},
   "source": [
    "## Dimension Reduction"
   ]
  },
  {
   "cell_type": "markdown",
   "metadata": {},
   "source": [
    "### PCA"
   ]
  },
  {
   "cell_type": "code",
   "execution_count": null,
   "metadata": {
    "execution": {
     "iopub.execute_input": "2025-03-09T21:59:26.656631Z",
     "iopub.status.busy": "2025-03-09T21:59:26.656370Z",
     "iopub.status.idle": "2025-03-09T21:59:26.738994Z",
     "shell.execute_reply": "2025-03-09T21:59:26.737838Z",
     "shell.execute_reply.started": "2025-03-09T21:59:26.656609Z"
    },
    "trusted": true
   },
   "outputs": [],
   "source": [
    "pca = PCA(n_components=3)\n",
    "pca.fit(scaled_ds)\n",
    "PCA_ds = pd.DataFrame(pca.transform(scaled_ds), columns=([\"col1\",\"col2\", \"col3\"]))\n",
    "PCA_ds.describe().T"
   ]
  },
  {
   "cell_type": "code",
   "execution_count": null,
   "metadata": {
    "execution": {
     "iopub.execute_input": "2025-03-09T21:59:26.740400Z",
     "iopub.status.busy": "2025-03-09T21:59:26.740049Z",
     "iopub.status.idle": "2025-03-09T21:59:27.129057Z",
     "shell.execute_reply": "2025-03-09T21:59:27.127623Z",
     "shell.execute_reply.started": "2025-03-09T21:59:26.740365Z"
    },
    "trusted": true
   },
   "outputs": [],
   "source": [
    "x =PCA_ds[\"col1\"]\n",
    "y =PCA_ds[\"col2\"]\n",
    "z =PCA_ds[\"col3\"]\n",
    "fig = plt.figure(figsize=(10,8))\n",
    "ax = fig.add_subplot(111, projection=\"3d\")\n",
    "ax.scatter(x,y,z, c=\"blue\", marker=\"o\" )\n",
    "ax.set_title(\"A 3D Projection Of Data In The Reduced Dimension\")\n",
    "plt.show()"
   ]
  },
  {
   "cell_type": "markdown",
   "metadata": {},
   "source": [
    "shows a discrimination of data into three clusters"
   ]
  },
  {
   "cell_type": "markdown",
   "metadata": {},
   "source": [
    "# EDA"
   ]
  },
  {
   "cell_type": "code",
   "execution_count": null,
   "metadata": {
    "execution": {
     "iopub.execute_input": "2025-03-09T21:59:27.130562Z",
     "iopub.status.busy": "2025-03-09T21:59:27.130244Z",
     "iopub.status.idle": "2025-03-09T21:59:28.827814Z",
     "shell.execute_reply": "2025-03-09T21:59:28.826864Z",
     "shell.execute_reply.started": "2025-03-09T21:59:27.130533Z"
    },
    "trusted": true
   },
   "outputs": [],
   "source": [
    "df.hist(figsize=(16, 20), bins=50, xlabelsize=8, ylabelsize=8)"
   ]
  },
  {
   "cell_type": "markdown",
   "metadata": {},
   "source": [
    "no normal distribution seen in figures"
   ]
  },
  {
   "cell_type": "code",
   "execution_count": null,
   "metadata": {
    "execution": {
     "iopub.execute_input": "2025-03-09T22:01:18.176196Z",
     "iopub.status.busy": "2025-03-09T22:01:18.175845Z",
     "iopub.status.idle": "2025-03-09T22:01:19.881281Z",
     "shell.execute_reply": "2025-03-09T22:01:19.880292Z",
     "shell.execute_reply.started": "2025-03-09T22:01:18.176170Z"
    },
    "trusted": true
   },
   "outputs": [],
   "source": [
    "import seaborn as sns\n",
    "import matplotlib.pyplot as plt\n",
    "\n",
    "columns_to_plot = df.columns\n",
    "\n",
    "num_cols = 5\n",
    "num_rows = int(np.ceil(len(columns_to_plot) / num_cols))\n",
    "\n",
    "fig, axes = plt.subplots(nrows=num_rows, ncols=num_cols, figsize=(15, 4 * num_rows)) \n",
    "\n",
    "axes = axes.flatten()\n",
    "\n",
    "for i, column in enumerate(columns_to_plot):\n",
    "    sns.boxplot(y=df[column], ax=axes[i])\n",
    "    axes[i].set_title(f\"Boxplot - {column}\")\n",
    "    axes[i].grid(False)\n",
    "\n",
    "plt.tight_layout()\n",
    "plt.show()"
   ]
  },
  {
   "cell_type": "markdown",
   "metadata": {},
   "source": [
    "discount count has outliers as shown box plot - discount_counts"
   ]
  },
  {
   "cell_type": "code",
   "execution_count": null,
   "metadata": {
    "trusted": true
   },
   "outputs": [],
   "source": []
  },
  {
   "cell_type": "code",
   "execution_count": null,
   "metadata": {
    "execution": {
     "iopub.execute_input": "2025-03-09T21:59:28.829271Z",
     "iopub.status.busy": "2025-03-09T21:59:28.828995Z",
     "iopub.status.idle": "2025-03-09T21:59:38.099310Z",
     "shell.execute_reply": "2025-03-09T21:59:38.098156Z",
     "shell.execute_reply.started": "2025-03-09T21:59:28.829247Z"
    },
    "trusted": true
   },
   "outputs": [],
   "source": [
    "sns.set(rc={\"axes.facecolor\":\"#FFF9ED\",\"figure.facecolor\":\"#FFF9ED\"})\n",
    "pallet = [\"#682F2F\", \"#9E726F\", \"#D6B2B1\", \"#B9C0C9\", \"#9F8A78\", \"#F3AB60\"]\n",
    "cmap = colors.ListedColormap([\"#682F2F\", \"#9E726F\", \"#D6B2B1\", \"#B9C0C9\", \"#9F8A78\", \"#F3AB60\"])\n",
    "To_Plot = [\"total_purchases\",\"avg_cart_value\", \"total_time_spent\", \"product_click\", \"discount_counts\", \"customer_id\"]\n",
    "print(\"Reletive Plot Of Features\")\n",
    "plt.figure()\n",
    "sns.pairplot(scaled_ds[To_Plot],palette= ([\"#682F2F\",\"#F3AB60\"]))\n",
    "plt.show()"
   ]
  },
  {
   "cell_type": "markdown",
   "metadata": {},
   "source": [
    "product click seems to have outliers\\\n",
    "discount counts seems to have outliers"
   ]
  },
  {
   "cell_type": "markdown",
   "metadata": {},
   "source": [
    "average cart value, total purchases pair clearly shows a clustering the dataset to 3 categories\\\n",
    "average cart value, product click pair clearly shows a clustering the dataset to 3 categories\\\n",
    "average cart value, total time spent pair clearly shows a clustering the dataset to 3 categories"
   ]
  },
  {
   "cell_type": "code",
   "execution_count": null,
   "metadata": {
    "execution": {
     "iopub.execute_input": "2025-03-09T21:59:38.100958Z",
     "iopub.status.busy": "2025-03-09T21:59:38.100554Z",
     "iopub.status.idle": "2025-03-09T21:59:38.710209Z",
     "shell.execute_reply": "2025-03-09T21:59:38.709110Z",
     "shell.execute_reply.started": "2025-03-09T21:59:38.100925Z"
    },
    "trusted": true
   },
   "outputs": [],
   "source": [
    "corrmat= scaled_ds.corr()\n",
    "plt.figure(figsize=(20,20))  \n",
    "sns.heatmap(corrmat,annot=True, cmap=\"coolwarm\", center=0)"
   ]
  },
  {
   "cell_type": "markdown",
   "metadata": {},
   "source": [
    "Note\\\n",
    "total purchases have strong positive linear relationship with discount counts\\\n",
    "total time spend have strong positive linear relationship with product click\\\n",
    "total time spend have strong negative linear relationship with total purchases\n"
   ]
  },
  {
   "cell_type": "markdown",
   "metadata": {},
   "source": [
    "# Model Selection"
   ]
  },
  {
   "cell_type": "markdown",
   "metadata": {},
   "source": [
    "## Clustering"
   ]
  },
  {
   "cell_type": "markdown",
   "metadata": {},
   "source": [
    "Steps involved in the Clustering\n",
    "\n",
    "- Elbow Method to ensure the number of clusters to be formed\n",
    "- Clustering via different models\n",
    "- Examining the clusters formed via scatter plot\n"
   ]
  },
  {
   "cell_type": "code",
   "execution_count": null,
   "metadata": {
    "execution": {
     "iopub.execute_input": "2025-03-09T21:59:38.711437Z",
     "iopub.status.busy": "2025-03-09T21:59:38.711098Z",
     "iopub.status.idle": "2025-03-09T21:59:39.668207Z",
     "shell.execute_reply": "2025-03-09T21:59:39.667396Z",
     "shell.execute_reply.started": "2025-03-09T21:59:38.711411Z"
    },
    "trusted": true
   },
   "outputs": [],
   "source": [
    "Elbow_M = KElbowVisualizer(KMeans(), k=10)\n",
    "Elbow_M.fit(PCA_ds)\n",
    "Elbow_M.show()"
   ]
  },
  {
   "cell_type": "markdown",
   "metadata": {},
   "source": [
    "Above cell ensures that there are 3 clusters"
   ]
  },
  {
   "cell_type": "code",
   "execution_count": null,
   "metadata": {
    "execution": {
     "iopub.execute_input": "2025-03-09T21:59:39.669936Z",
     "iopub.status.busy": "2025-03-09T21:59:39.669539Z",
     "iopub.status.idle": "2025-03-09T21:59:39.674290Z",
     "shell.execute_reply": "2025-03-09T21:59:39.673135Z",
     "shell.execute_reply.started": "2025-03-09T21:59:39.669900Z"
    },
    "trusted": true
   },
   "outputs": [],
   "source": [
    "data = df.copy()"
   ]
  },
  {
   "cell_type": "markdown",
   "metadata": {},
   "source": [
    "## Mean Shift Clustering"
   ]
  },
  {
   "cell_type": "code",
   "execution_count": null,
   "metadata": {
    "execution": {
     "iopub.execute_input": "2025-03-09T21:59:39.675824Z",
     "iopub.status.busy": "2025-03-09T21:59:39.675463Z",
     "iopub.status.idle": "2025-03-09T21:59:41.969901Z",
     "shell.execute_reply": "2025-03-09T21:59:41.968870Z",
     "shell.execute_reply.started": "2025-03-09T21:59:39.675789Z"
    },
    "trusted": true
   },
   "outputs": [],
   "source": [
    "from sklearn.cluster import MeanShift\n",
    "\n",
    "mean_shift = MeanShift()\n",
    "yhat_MeanShift = mean_shift.fit_predict(PCA_ds)\n",
    "\n",
    "data['Clusters_MeanShift'] = yhat_MeanShift\n",
    "\n",
    "\n",
    "fig = plt.figure(figsize=(10,8))\n",
    "ax = plt.subplot(111, projection='3d', label=\"bla\")\n",
    "ax.scatter(x, y, z, s=40, c=data['Clusters_MeanShift'], marker='o', cmap = cmap )\n",
    "ax.set_title(\"The Plot Of The Clusters\")\n",
    "plt.show()\n",
    "\n",
    "\n",
    "from sklearn.metrics import silhouette_score\n",
    "\n",
    "score = silhouette_score(PCA_ds, data['Clusters_MeanShift'])\n",
    "print(f'Silhouette Score: {score}')"
   ]
  },
  {
   "cell_type": "markdown",
   "metadata": {},
   "source": [
    "## Gaussian Mixture Model (GMM)"
   ]
  },
  {
   "cell_type": "code",
   "execution_count": null,
   "metadata": {
    "execution": {
     "iopub.execute_input": "2025-03-09T21:59:41.971323Z",
     "iopub.status.busy": "2025-03-09T21:59:41.970983Z",
     "iopub.status.idle": "2025-03-09T21:59:42.285501Z",
     "shell.execute_reply": "2025-03-09T21:59:42.284430Z",
     "shell.execute_reply.started": "2025-03-09T21:59:41.971283Z"
    },
    "trusted": true
   },
   "outputs": [],
   "source": [
    "from sklearn.mixture import GaussianMixture\n",
    "\n",
    "gmm = GaussianMixture(n_components=3, random_state=42)\n",
    "yhat_GMM = gmm.fit_predict(PCA_ds)\n",
    "\n",
    "data['Clusters_GMM'] = yhat_GMM\n",
    "\n",
    "\n",
    "fig = plt.figure(figsize=(10,8))\n",
    "ax = plt.subplot(111, projection='3d', label=\"bla\")\n",
    "ax.scatter(x, y, z, s=40, c=data['Clusters_GMM'], marker='o', cmap = cmap )\n",
    "ax.set_title(\"The Plot Of The Clusters\")\n",
    "plt.show()\n",
    "\n",
    "\n",
    "from sklearn.metrics import silhouette_score\n",
    "\n",
    "score = silhouette_score(PCA_ds, data['Clusters_GMM'])\n",
    "print(f'Silhouette Score: {score}')"
   ]
  },
  {
   "cell_type": "markdown",
   "metadata": {},
   "source": [
    "## K Means Clustering"
   ]
  },
  {
   "cell_type": "code",
   "execution_count": null,
   "metadata": {
    "execution": {
     "iopub.execute_input": "2025-03-09T21:59:42.286925Z",
     "iopub.status.busy": "2025-03-09T21:59:42.286575Z",
     "iopub.status.idle": "2025-03-09T21:59:42.580356Z",
     "shell.execute_reply": "2025-03-09T21:59:42.579481Z",
     "shell.execute_reply.started": "2025-03-09T21:59:42.286885Z"
    },
    "trusted": true
   },
   "outputs": [],
   "source": [
    "kmeans = KMeans(n_clusters=3, random_state=42)\n",
    "PCA_ds[\"Clusters\"] = df['Clusters'] = kmeans.fit_predict(PCA_ds)\n",
    "\n",
    "fig = plt.figure(figsize=(10,8))\n",
    "ax = plt.subplot(111, projection='3d', label=\"bla\")\n",
    "ax.scatter(x, y, z, s=40, c=PCA_ds[\"Clusters\"], marker='o', cmap = cmap )\n",
    "ax.set_title(\"The Plot Of The Clusters\")\n",
    "plt.show()\n",
    "\n",
    "from sklearn.metrics import silhouette_score\n",
    "\n",
    "score = silhouette_score(PCA_ds, df['Clusters'])\n",
    "print(f'Silhouette Score: {score}')"
   ]
  },
  {
   "cell_type": "markdown",
   "metadata": {},
   "source": [
    "## Agglomerative Clustering model"
   ]
  },
  {
   "cell_type": "code",
   "execution_count": null,
   "metadata": {
    "execution": {
     "iopub.execute_input": "2025-03-09T21:59:42.581796Z",
     "iopub.status.busy": "2025-03-09T21:59:42.581420Z",
     "iopub.status.idle": "2025-03-09T21:59:42.870299Z",
     "shell.execute_reply": "2025-03-09T21:59:42.869194Z",
     "shell.execute_reply.started": "2025-03-09T21:59:42.581738Z"
    },
    "trusted": true
   },
   "outputs": [],
   "source": [
    "AC = AgglomerativeClustering(n_clusters=3)\n",
    "yhat_AC = AC.fit_predict(PCA_ds)\n",
    "PCA_ds[\"Clusters\"] = yhat_AC\n",
    "df[\"Clusters\"]= yhat_AC\n",
    "\n",
    "fig = plt.figure(figsize=(10,8))\n",
    "ax = plt.subplot(111, projection='3d', label=\"bla\")\n",
    "ax.scatter(x, y, z, s=40, c=PCA_ds[\"Clusters\"], marker='o', cmap = cmap )\n",
    "ax.set_title(\"The Plot Of The Clusters\")\n",
    "plt.show()\n",
    "\n",
    "\n",
    "from sklearn.metrics import silhouette_score\n",
    "\n",
    "score = silhouette_score(PCA_ds, df['Clusters'])\n",
    "print(f'Silhouette Score: {score}')"
   ]
  },
  {
   "cell_type": "markdown",
   "metadata": {},
   "source": [
    "Selected Model -  Agglomerative Clustering\n",
    "\n",
    "Agglomerative Clustering was chosen for its ability to identify customer segments of varying shapes and densities, without assuming spherical clusters like K-Means. Its hierarchical nature, visualized through a dendrogram, provides valuable insights into the relationships between clusters and supports interpretable segmentation strategies. Given the potential for non-linear relationships in customer behavior, this flexibility makes Agglomerative Clustering a robust approach for identifying distinct customer groups within the e-commerce platform data.\n",
    "\n",
    "\n"
   ]
  },
  {
   "cell_type": "markdown",
   "metadata": {},
   "source": [
    "# Model Evaluation"
   ]
  },
  {
   "cell_type": "code",
   "execution_count": null,
   "metadata": {
    "execution": {
     "iopub.execute_input": "2025-03-09T21:59:42.874321Z",
     "iopub.status.busy": "2025-03-09T21:59:42.874058Z",
     "iopub.status.idle": "2025-03-09T21:59:43.056149Z",
     "shell.execute_reply": "2025-03-09T21:59:43.055132Z",
     "shell.execute_reply.started": "2025-03-09T21:59:42.874298Z"
    },
    "trusted": true
   },
   "outputs": [],
   "source": [
    "pal = [\"#682F2F\",\"#B9C0C9\", \"#9F8A78\",\"#F3AB60\"]\n",
    "pl = sns.countplot(x=df[\"Clusters\"], palette= pal)\n",
    "pl.set_title(\"Distribution Of The Clusters\")\n",
    "plt.show()"
   ]
  },
  {
   "cell_type": "markdown",
   "metadata": {},
   "source": [
    "The clusters seem to be fairly distributed."
   ]
  },
  {
   "cell_type": "code",
   "execution_count": null,
   "metadata": {
    "execution": {
     "iopub.execute_input": "2025-03-09T21:59:43.057937Z",
     "iopub.status.busy": "2025-03-09T21:59:43.057524Z",
     "iopub.status.idle": "2025-03-09T21:59:43.443861Z",
     "shell.execute_reply": "2025-03-09T21:59:43.442822Z",
     "shell.execute_reply.started": "2025-03-09T21:59:43.057902Z"
    },
    "trusted": true
   },
   "outputs": [],
   "source": [
    "pl = sns.scatterplot(data = df,x=df[\"total_time_spent\"], y=df[\"total_purchases\"],hue=df[\"Clusters\"], palette= pal)\n",
    "pl.set_title(\"Cluster's Profile Based On total_time_spent and total_purchases\")\n",
    "plt.legend()\n",
    "plt.show()"
   ]
  },
  {
   "cell_type": "markdown",
   "metadata": {},
   "source": [
    "total_time_spent vs  total_purchases shows the clusters pattern\n",
    "\n",
    "cluster 0: high total_time_spent & low total_purchases\\\n",
    "cluster 1: low total_time_spent & high total_purchases\\\n",
    "cluster 2: average total_time_spent & average total_purchases\n"
   ]
  },
  {
   "cell_type": "code",
   "execution_count": null,
   "metadata": {
    "execution": {
     "iopub.execute_input": "2025-03-09T21:59:43.445228Z",
     "iopub.status.busy": "2025-03-09T21:59:43.444935Z",
     "iopub.status.idle": "2025-03-09T21:59:46.354339Z",
     "shell.execute_reply": "2025-03-09T21:59:46.353350Z",
     "shell.execute_reply.started": "2025-03-09T21:59:43.445193Z"
    },
    "trusted": true
   },
   "outputs": [],
   "source": [
    "plt.figure()\n",
    "pl=sns.swarmplot(x=df[\"Clusters\"], y=df[\"total_purchases\"], color= \"#CBEDDD\", alpha=0.5 )\n",
    "pl=sns.boxenplot(x=df[\"Clusters\"], y=df[\"total_purchases\"], palette=pal)\n",
    "pl.set_title(\"Total Purchases\")\n",
    "plt.show()"
   ]
  },
  {
   "cell_type": "markdown",
   "metadata": {},
   "source": [
    "From the above plot, it can be clearly seen that cluster 1 is our biggest set of customers followed by cluster 2."
   ]
  },
  {
   "cell_type": "code",
   "execution_count": null,
   "metadata": {
    "execution": {
     "iopub.execute_input": "2025-03-09T21:59:46.355647Z",
     "iopub.status.busy": "2025-03-09T21:59:46.355338Z",
     "iopub.status.idle": "2025-03-09T21:59:46.554197Z",
     "shell.execute_reply": "2025-03-09T21:59:46.553196Z",
     "shell.execute_reply.started": "2025-03-09T21:59:46.355622Z"
    },
    "trusted": true
   },
   "outputs": [],
   "source": [
    "plt.figure()\n",
    "pl=sns.boxenplot(y=df[\"discount_counts\"],x=df[\"Clusters\"], palette= pal)\n",
    "pl.set_title(\"Discount Counts\")\n",
    "plt.show()"
   ]
  },
  {
   "cell_type": "markdown",
   "metadata": {},
   "source": [
    "cluster 1 bargain hunters claims the highest discount counts."
   ]
  },
  {
   "cell_type": "code",
   "execution_count": null,
   "metadata": {
    "execution": {
     "iopub.execute_input": "2025-03-09T21:59:46.555500Z",
     "iopub.status.busy": "2025-03-09T21:59:46.555143Z",
     "iopub.status.idle": "2025-03-09T21:59:46.783548Z",
     "shell.execute_reply": "2025-03-09T21:59:46.782632Z",
     "shell.execute_reply.started": "2025-03-09T21:59:46.555467Z"
    },
    "trusted": true
   },
   "outputs": [],
   "source": [
    "plt.figure()\n",
    "pl=sns.boxenplot(y=df[\"product_click\"],x=df[\"Clusters\"], palette= pal)\n",
    "pl.set_title(\"Number of Product Clicks\")\n",
    "plt.show()"
   ]
  },
  {
   "cell_type": "markdown",
   "metadata": {},
   "source": [
    "cluster 0; window shoppers view a large number of products whilst others have moderate product clicks."
   ]
  },
  {
   "cell_type": "code",
   "execution_count": null,
   "metadata": {
    "execution": {
     "iopub.execute_input": "2025-03-09T21:59:46.784824Z",
     "iopub.status.busy": "2025-03-09T21:59:46.784443Z",
     "iopub.status.idle": "2025-03-09T21:59:47.010480Z",
     "shell.execute_reply": "2025-03-09T21:59:47.009579Z",
     "shell.execute_reply.started": "2025-03-09T21:59:46.784801Z"
    },
    "trusted": true
   },
   "outputs": [],
   "source": [
    "plt.figure()\n",
    "pl=sns.boxenplot(y=df[\"avg_cart_value\"],x=df[\"Clusters\"], palette= pal)\n",
    "pl.set_title(\"Average Cart Values\")\n",
    "plt.show()"
   ]
  },
  {
   "cell_type": "markdown",
   "metadata": {},
   "source": [
    "cluster 2 can be identified as high spenders have high average cart values as mentioned in the question confirming our clustering accuracy. Other two groups have moderate average cart values."
   ]
  },
  {
   "cell_type": "markdown",
   "metadata": {},
   "source": [
    "# Conclusion"
   ]
  },
  {
   "cell_type": "markdown",
   "metadata": {},
   "source": [
    "## Identifying Clusters"
   ]
  },
  {
   "cell_type": "markdown",
   "metadata": {},
   "source": [
    "Clusters follows the patterns given in the question\\\n",
    "cluster 0: Window Shoppers \\\n",
    "cluster 1: Bargain Hunters\\\n",
    "cluster 2: High Spenders"
   ]
  }
 ],
 "metadata": {
  "kaggle": {
   "accelerator": "none",
   "dataSources": [
    {
     "datasetId": 6816699,
     "sourceId": 10957471,
     "sourceType": "datasetVersion"
    }
   ],
   "dockerImageVersionId": 30918,
   "isGpuEnabled": false,
   "isInternetEnabled": true,
   "language": "python",
   "sourceType": "notebook"
  },
  "kernelspec": {
   "display_name": "Python 3",
   "language": "python",
   "name": "python3"
  },
  "language_info": {
   "codemirror_mode": {
    "name": "ipython",
    "version": 3
   },
   "file_extension": ".py",
   "mimetype": "text/x-python",
   "name": "python",
   "nbconvert_exporter": "python",
   "pygments_lexer": "ipython3",
   "version": "3.11.7"
  }
 },
 "nbformat": 4,
 "nbformat_minor": 4
}
